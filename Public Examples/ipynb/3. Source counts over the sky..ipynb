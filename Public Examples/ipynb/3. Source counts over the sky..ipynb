﻿{
  "metadata": {
    "name": "3. Source counts over the sky",
    "kernelspec": {
      "language": "scala",
      "name": "spark2-scala"
    },
    "language_info": {
      "codemirror_mode": "text/x-scala",
      "file_extension": ".scala",
      "mimetype": "text/x-scala",
      "name": "scala",
      "pygments_lexer": "scala"
    }
  },
  "nbformat": 4,
  "nbformat_minor": 2,
  "cells": [
    {
      "cell_type": "markdown",
      "metadata": {},
      "source": "\u003c!--\n\n    Gaia Data Processing and Analysis Consortium (DPAC) \n    Co-ordination Unit 9 Work Package 930\n    \n    (c) 2005-2025 Gaia DPAC\n    \n    This program is free software: you can redistribute it and/or modify\n    it under the terms of the GNU General Public License as published by\n    the Free Software Foundation, either version 3 of the License, or\n    (at your option) any later version.\n\n    This program is distributed in the hope that it will be useful,\n    but WITHOUT ANY WARRANTY; without even the implied warranty of\n    MERCHANTABILITY or FITNESS FOR A PARTICULAR PURPOSE.  See the\n    GNU General Public License for more details.\n\n    You should have received a copy of the GNU General Public License\n    along with this program.  If not, see \u003chttps://www.gnu.org/licenses/\u003e.\n    --\u003e\n\nThis simple example shows how to use the PySpark SQL API to execute a simple query on the main source catalogue and plot the results.\n\nNotes:\n\n* The cell containing the query below finishes instantly since it merely defines a \"transformation\" (in the language of Spark) without actually actioning it. It is only when something is done with the data selected by this transform (i.e. it is explicitly actioned as in the following cell) that execution occurs\n* Visualisation takes advantage of HEALPix pixelisation encoded in the Gaia source IDs, and the healpy Python package in conjunction with matplotlib\n* Links are provided in the final cell to the documentation for the packages used, along with other relevant resources.\n\n"
    },
    {
      "cell_type": "code",
      "execution_count": 1,
      "metadata": {
        "autoscroll": "auto"
      },
      "outputs": [],
      "source": "%pyspark\nimport gaiadmpsetup\nimport math\n\n# set the resolution of the counts\nhealpix_level \u003d 6\n# HEALPix level : no. of pixels\n# 4 : 3072\n# 5 : 12288\n# 6 : 49152 ~ 1 square degree pixels\n# 7 : 196608\n\n# Note: the most significant four-byte word of the 8-byte Gaia source ID contains a HEALPix level 12 index from bit 35 and higher\nnside \u003d int(math.pow(2, healpix_level))\npowers_of_2 \u003d 35 + (12 - healpix_level)*2\ndivisor \u003d int(math.pow(2, powers_of_2))\n\ndivisor\n\n# make the query: integer division via the PySpark SQL FLOOR function is used to create bin UIDs by which to group the count\ndf \u003d spark.sql(\"SELECT FLOOR(source_id / %d\"%(divisor) + \") AS hpx_id, COUNT(*) AS n FROM gaiadr3.gaia_source GROUP BY hpx_id\")\n\n"
    },
    {
      "cell_type": "code",
      "execution_count": 2,
      "metadata": {
        "autoscroll": "auto"
      },
      "outputs": [],
      "source": "%pyspark\n\n# plot up the sky counts\nimport numpy as np\nimport healpy as hp\nimport matplotlib.pyplot as plot\n\n# set a figure to use along with a plot size (landscape, golden ratio)\nplot.figure(1, figsize \u003d (16.18, 10.0))\n\n# healpy constants appropriate to the HEALPix indexing encoded in Gaia source IDs\nnpix \u003d hp.nside2npix(nside)\n\n# do the visualisation\narray_data \u003d np.empty(npix)\n# access the underlying Spark Resilient Distributed Data object of the data frame to get the relevant data for plotting ...\nfor item in df.rdd.collect():  array_data[item[0]] \u003d item[1]\n# ... this is just one way of several ...\n\n# plot the counts in Mollweide projection ...\nhp.mollview(array_data, fig\u003d1, nest\u003dTrue, coord\u003d\u0027CG\u0027, unit \u003d \u0027Star counts per HEALPixel\u0027, title\u003d\u0027Gaia DR3 source counts at HEALPix level %d\u0027%(healpix_level), cmap\u003d\u0027viridis\u0027, norm \u003d \u0027log\u0027)\n# ... with an Equatorial graticule\nhp.graticule(coord\u003d\u0027C\u0027, color\u003d\u0027white\u0027)\n"
    },
    {
      "cell_type": "markdown",
      "metadata": {},
      "source": "* [Gaia source ID definition (for HEALPix indexing)](https://dms.cosmos.esa.int/COSMOS/doc_fetch.php?id\u003d2779219)\n* [Python package healpy](https://healpy.readthedocs.io/en/latest/index.html)\n* [Python matplotlib plotting library](https://matplotlib.org)\n* [Handy HEALPixel characteristics for various levels](https://lambda.gsfc.nasa.gov/toolbox/tb_pixelcoords.cfm)\n"
    },
    {
      "cell_type": "markdown",
      "metadata": {},
      "source": ""
    }
  ]
}