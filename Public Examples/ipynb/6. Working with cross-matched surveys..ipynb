﻿{
  "metadata": {
    "name": "6. Working with cross-matched surveys",
    "kernelspec": {
      "language": "scala",
      "name": "spark2-scala"
    },
    "language_info": {
      "codemirror_mode": "text/x-scala",
      "file_extension": ".scala",
      "mimetype": "text/x-scala",
      "name": "scala",
      "pygments_lexer": "scala"
    }
  },
  "nbformat": 4,
  "nbformat_minor": 2,
  "cells": [
    {
      "cell_type": "markdown",
      "metadata": {},
      "source": "\u003c!--\n\n    Gaia Data Processing and Analysis Consortium (DPAC) \n    Co-ordination Unit 9 Work Package 930\n    \n    (c) 2005-2025 Gaia DPAC\n    \n    This program is free software: you can redistribute it and/or modify\n    it under the terms of the GNU General Public License as published by\n    the Free Software Foundation, either version 3 of the License, or\n    (at your option) any later version.\n\n    This program is distributed in the hope that it will be useful,\n    but WITHOUT ANY WARRANTY; without even the implied warranty of\n    MERCHANTABILITY or FITNESS FOR A PARTICULAR PURPOSE.  See the\n    GNU General Public License for more details.\n\n    You should have received a copy of the GNU General Public License\n    along with this program.  If not, see \u003chttps://www.gnu.org/licenses/\u003e.\n    --\u003e\n    \nThis notebook illustrates a simple usage of cross-matched survey data available on the platform. It uses Gaia catalogue data (parallaxes and optical photometry) along with cross-matched infrared photometry to plot a de-reddened optical/infrared colour-absolute magnitude diagram (CAMD, a.k.a. an observational Hertzsprung-Russell diagram) of all sources with appropriate measurements.\n\nPlease note:\n* only PanSTARRS DR1, 2MASS Point Sources and ALLWISE _cross-matches_ are hosted on this platform;\n* cross-matched data consist of the \u0027best\u0027 neighbour (where that exists) along with original catalogue records (all columns) from the cross-matched survey; \n* if an external survey source has no Gaia cross-match counterpart then it does not exist here;\n* the best neighbour and external catalogue records are concatenated into single rows in the cross-matched resources presented here.\n"
    },
    {
      "cell_type": "code",
      "execution_count": 1,
      "metadata": {
        "autoscroll": "auto"
      },
      "outputs": [],
      "source": "%pyspark\n\nimport gaiadmpsetup\n"
    },
    {
      "cell_type": "code",
      "execution_count": 2,
      "metadata": {
        "autoscroll": "auto"
      },
      "outputs": [],
      "source": "%pyspark\n\nimport math\n\n# range and resolution of the rasterized colour-magnitude diagram - configure to suit\nbrightest_abs_mag \u003d -5.0\nfaintest_abs_mag \u003d 15.0\nbluest_colour \u003d -2.0\nreddest_colour \u003d +6.0\nmag_resolution \u003d 0.02\n\n# global constant given the above configuration\nabs_mag_range \u003d faintest_abs_mag - brightest_abs_mag\ncolour_range \u003d reddest_colour - bluest_colour\nxmax_idx \u003d int((colour_range) / mag_resolution)\nymax_idx \u003d int((abs_mag_range) / mag_resolution)\n\n# raster function\ndef cmd_raster_index(magnitude, colour, parallax):\n    \u0027\u0027\u0027\n    Computes an arbitrary, unique raster index in the 2d absolute-magnitude / colour space given the \n    apparent magnitude, colour and parallax of a source and fixed configuration.\n    \u0027\u0027\u0027\n    \n    # distance modulus assuming zero reddening and hence absolute magnitude\n    mmm \u003d 5.0 * math.log10(1000.0 / parallax) - 5.0\n    abs_mag \u003d magnitude - mmm\n    \n    # create the 2d raster unique index as a combination of those of colour and absolute mag\n    xidx \u003d int(round((colour - bluest_colour) * xmax_idx / colour_range))\n    yidx \u003d int(round((abs_mag - brightest_abs_mag) * ymax_idx / abs_mag_range))\n    \n    # check if outside the defined boundaries\n    if xidx \u003e\u003d xmax_idx or yidx \u003e\u003d ymax_idx: return 0\n    \n    # return the index\n    return xidx + (xmax_idx * yidx)\n\n# wrap up the rasterization function as a user-defined function for use via the PySpark SQL API\nfrom pyspark.sql.types import IntegerType\nspark.udf.register(\u0027rasterize\u0027, cmd_raster_index, IntegerType())\n\n# define vectorized functions that reverse the encoded raster index into colour and absolute magnitude\n# based on the same configuration\nimport numpy as np\n\ndef xidx(ridx_array: np.array) -\u003e np.array:\n    \u0027\u0027\u0027\n    Given the vector raster index compute the x (colour) indices of the bins.\n    \u0027\u0027\u0027\n    return np.mod(ridx_array, xmax_idx)\n\ndef yidx(ridx_array: np.array) -\u003e np.array:\n    \u0027\u0027\u0027\n    Given the vector raster index compute the y (absolute magnitude) indices of the bins.\n    \u0027\u0027\u0027\n    return np.trunc(ridx_array / xmax_idx)\n\n"
    },
    {
      "cell_type": "code",
      "execution_count": 3,
      "metadata": {
        "autoscroll": "auto"
      },
      "outputs": [],
      "source": "%pyspark\n\n# aggregate query employing the rasterization UDF \nquery \u003d \u0027SELECT rasterize(g.phot_g_mean_mag - ag_gspphot, g.phot_g_mean_mag - ag_gspphot - t.k_m, g.parallax) AS ridx, COUNT(*) AS count_in_pixel \u0027 + \\\n        \u0027FROM gaiadr3.gaia_source AS g INNER JOIN gaiaedr3.gaia_source_tmasspsc_best_neighbours AS t ON g.source_id \u003d t.source_id \u0027 + \\\n        \u0027WHERE g.ruwe \u003c 1.4 AND g.parallax_over_error \u003e 10.0 AND t.k_m IS NOT NULL AND g.ag_gspphot IS NOT NULL \u0027 + \\\n        \u0027GROUP BY ridx HAVING ridx \u003e\u003d 0\u0027\n\n# define the data frame via the aggregate query\ndf \u003d spark.sql(query)\n"
    },
    {
      "cell_type": "code",
      "execution_count": 4,
      "metadata": {
        "autoscroll": "auto"
      },
      "outputs": [],
      "source": "%pyspark\n\n# collect the counts as a Pandas data frame\npdf \u003d df.toPandas()\n# ... this will action the distributed spark job and then merge the individual worker aggregations.\n# It \"collects\" all the data to the driver executor as a monolithic in-memory data set - always use with care!\n\n# compute the colour/magnitude bin centres from the raster index via vectorized functions defined above\n#pdf[\u0027colour\u0027] \u003d colours(pdf[\u0027ridx\u0027].values)\n#pdf[\u0027abs_mag\u0027] \u003d abs_mags(pdf[\u0027ridx\u0027].values)\npdf[\u0027xidx\u0027] \u003d xidx(pdf[\u0027ridx\u0027].values)\npdf[\u0027yidx\u0027] \u003d yidx(pdf[\u0027ridx\u0027].values)\n\n# quick-look sanity check (and optional download of results set)\nz.show(pdf)\n\n"
    },
    {
      "cell_type": "code",
      "execution_count": 5,
      "metadata": {
        "autoscroll": "auto"
      },
      "outputs": [],
      "source": "%pyspark\n\nimport matplotlib.pyplot as plot\n\n# create a sparse array object for the results (only those elements with non-zero counts are in the results set)\nfrom scipy.sparse import coo_matrix # renamed coo_array in later versions of scipy\n# https://docs.scipy.org/doc/scipy-1.6.3/reference/generated/scipy.sparse.coo_matrix.html#scipy.sparse.coo_matrix\nsparse_data \u003d coo_matrix((np.log(pdf[\u0027count_in_pixel\u0027]), (pdf[\u0027yidx\u0027], pdf[\u0027xidx\u0027])), shape \u003d (ymax_idx, xmax_idx))\n# ... use logged counts to enhance low-level features in the CAMD\n\n# expand into a dense array in order to plot as an image with imshow\ndense_data \u003d sparse_data.todense()\n\n# do the plot\nplot.figure(0, figsize \u003d (8.0, 12.0))\nplot.title(\u0027Dereddened optical/IR CAMD for the Gaia DR3 catalogue\u0027, fontsize \u003d 16)\nplot.xlabel(\u0027(G - K)$_0$ / mag\u0027, fontsize \u003d 14)\nplot.ylabel(\u0027M$_G$ - A$_G$ / mag\u0027, fontsize \u003d 14)\nplot.imshow(dense_data, aspect \u003d \u0027auto\u0027, \n    extent \u003d [bluest_colour, bluest_colour + xmax_idx * mag_resolution, brightest_abs_mag + ymax_idx * mag_resolution, brightest_abs_mag])\n\n"
    },
    {
      "cell_type": "markdown",
      "metadata": {},
      "source": "* [Gaia data release cross-matches](https://gea.esac.esa.int/archive/documentation/GDR3/Catalogue_consolidation/chap_crossmatch/)\n* [2MASS PSC](https://old.ipac.caltech.edu/2mass/releases/allsky/doc/sec2_2a.html \"2MASS point-source catalogue column details\")\n* [ALLWISE](https://wise2.ipac.caltech.edu/docs/release/allwise/expsup/sec2_1a.html \"ALLWISE catalogue column details\")\n* [PS1 OTMO](https://outerspace.stsci.edu/display/PANSTARRS/PS1+MeanObjectView+table+fields \"PS1 DR1 object-thin object-mean catalogue column details\") (note that column names follow the Gaia archive convention of all lower-case with underscore separators rather than the original CamelCase)\n"
    }
  ]
}