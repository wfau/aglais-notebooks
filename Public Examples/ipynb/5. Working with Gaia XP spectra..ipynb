﻿{
  "metadata": {
    "name": "5. Working with Gaia XP spectra",
    "kernelspec": {
      "language": "scala",
      "name": "spark2-scala"
    },
    "language_info": {
      "codemirror_mode": "text/x-scala",
      "file_extension": ".scala",
      "mimetype": "text/x-scala",
      "name": "scala",
      "pygments_lexer": "scala"
    }
  },
  "nbformat": 4,
  "nbformat_minor": 2,
  "cells": [
    {
      "cell_type": "markdown",
      "metadata": {},
      "source": "\u003c!--\n\n    Gaia Data Processing and Analysis Consortium (DPAC) \n    Co-ordination Unit 9 Work Package 930\n    \n    (c) 2005-2025 Gaia DPAC\n    \n    This program is free software: you can redistribute it and/or modify\n    it under the terms of the GNU General Public License as published by\n    the Free Software Foundation, either version 3 of the License, or\n    (at your option) any later version.\n\n    This program is distributed in the hope that it will be useful,\n    but WITHOUT ANY WARRANTY; without even the implied warranty of\n    MERCHANTABILITY or FITNESS FOR A PARTICULAR PURPOSE.  See the\n    GNU General Public License for more details.\n\n    You should have received a copy of the GNU General Public License\n    along with this program.  If not, see \u003chttps://www.gnu.org/licenses/\u003e.\n    --\u003e\n    \nThe bulk of Gaia XP spectra at Gaia DR3 are provided in a parametric \"continuous\" representational form (as opposed to conventional sampled form, i.e. fluxes in wavelength bins) in table `gaiadr3.xp_continuous_mean_spectrum`. Utilities for handling this form, including conversion to sampled form and plotting, are provided in a bespoke Python package [GaiaXPy](https://gaia-dpci.github.io/GaiaXPy-website/) which is available on this platform. A small subset of the XP spectra are provided also in sampled form in table `gaiadr3.xp_sampled_mean_spectrum` but these are for illustrative purposes only: users are strongly encouraged to familiarise themselves and work with the continuous representation, not least in order to handle correctly the statistical uncertainties inherent to the data.\n\nTo access GaiaXPy on this platform simply import the package as follows:\n\n    import gaiaxpy\n\nthen all classes and utility functions etc. will be available.\n"
    },
    {
      "cell_type": "code",
      "execution_count": 1,
      "metadata": {
        "autoscroll": "auto"
      },
      "outputs": [],
      "source": "%pyspark\n\n# standard platform set-up\nimport gaiadmpsetup\n\n# utility code set-up\nfrom gaiaxpy import plot_spectra, convert\n\n# XP products available in Gaia DR3, so set the default database context accordingly for convenience\nspark.sql(\u0027USE gaiadr3\u0027)\n\n# grab an example spectrum from the table\ncontinuous_df \u003d spark.sql(\u0027SELECT * FROM gaiadr3.xp_continuous_mean_spectrum WHERE source_id \u003d 5853498713190525696\u0027)\n# ... this source identifier corresponds to Proxima Cen (\u003d Alpha Cen C, spectral type M5.5V i.e. a mid-M dwarf)\n\n# convert to a Pandas dataframe for GaiaXPy\ncontinuous_spectrum \u003d continuous_df.toPandas()\n\n# convert to sampled form:\nsampled_spectrum, sampling \u003d convert(continuous_spectrum, save_file \u003d False)\n    \n# plot to sanity check:\nplot_spectra(sampled_spectrum, sampling \u003d sampling, multi\u003dFalse, show_plot\u003dTrue, output_path\u003dNone, legend\u003dTrue)\n\n"
    },
    {
      "cell_type": "code",
      "execution_count": 2,
      "metadata": {
        "autoscroll": "auto"
      },
      "outputs": [],
      "source": "%pyspark\n\nfrom gaiaxpy import calibrate\n\n# GaiaXPy provides classes and methods to create an externally calibrated single spectrum from the internal XP continuous representation:\ncalibrated_spectrum, sampling \u003d calibrate(continuous_spectrum, save_file \u003d False)\n\n# plot it\nplot_spectra(calibrated_spectrum, sampling \u003d sampling, legend \u003d False)\n"
    },
    {
      "cell_type": "markdown",
      "metadata": {},
      "source": "The code in the following cells illustrates a workflow where we trawl through the a large XP spectral data looking for spectra similar to a high signal-to-noise template example. The implementation takes advantage of the end-user programmability of the distributed query execution engine to return results in a reasonable time. The approach is to look for spectra having the same spectral shape, as expressed in the coefficients of the continuous representation."
    },
    {
      "cell_type": "code",
      "execution_count": 4,
      "metadata": {
        "autoscroll": "auto"
      },
      "outputs": [],
      "source": "%pyspark\n\nimport numpy as np\nimport pandas as pd\nfrom pyspark.sql.functions import pandas_udf\nfrom pyspark.sql import DataFrame\n#from scipy.stats import chi\n\n# static constants for use when reconstructing a covariance matrix from the flattened upper-triangular correlation matrix stored in xp_continuous_mean_spectrum\nNUM_XP_COEFFS \u003d 55\n# these indexes define the column-major positions of the correlation vector elements in the lower triangle of the 2d correlation matrix ...\nlower_index \u003d np.tril_indices(NUM_XP_COEFFS,-1)\n# ... note that numpy indexing is row-major. The upper triangular index is created from the lower, reflecting across the diagonal,\n# by transposing the axes - this results in the required column-major indexing for the upper part\nupper_index \u003d (lower_index[1], lower_index[0])\n# correlation matrix, empty apart from unity on the diagonal (off-diagonal elements to be filled in on a case-by-case basis)\ncorrelation_matrix \u003d np.diag(np.ones(NUM_XP_COEFFS))\n\ndef make_correlation_matrix(correlation_vector : np.ndarray) -\u003e np.ndarray:\n    \u0027\u0027\u0027\n    Returns the fully populated 2d correlation matrix given the flattened, 1d upper-triangular off-diagonal\n    elements of the same as persisted in the table of XP continuous representation spectra.\n    \u0027\u0027\u0027\n    # copy in unique, off-diagonal elements from the flattened correlation vector into the 2d-indexed positions\n    correlation_matrix[upper_index] \u003d correlation_vector\n    correlation_matrix[lower_index] \u003d correlation_vector\n    \n    # give back the complete correlation matrix\n    return correlation_matrix\n\ndef make_covariance_matrix(complete_correlation_matrix : np.ndarray, coefficient_error_vector : np.ndarray) -\u003e np.ndarray:\n    \u0027\u0027\u0027\n    Creates the fully reconstructed 2d covariance matrix of an XP continuous representation spectrum given the\n    complete 2d correlation matrix and the vector of formal errors on the coefficients. Note that Gaia DPAC CU5 scale \n    predicted coefficient errors by the standard deviation as a post-hoc correction to the formal (sqrt) variances.\n    GaiaXPy actually reverses this scaling in computation of the covariance matrix to return the latter as exactly\n    that produced as a result of the least-squares solution for the coefficients. Such a de-scaling of the errors\n    is not applied here: we assume that the uncertainties are best represented with this scaling intact.\n    \u0027\u0027\u0027\n    # 2d matrix with the errors on the diagonal\n    error_matrix \u003d np.diag(coefficient_error_vector)\n    \n    # from the standard relationship between covariance and correlation\n    return error_matrix @ (error_matrix @ complete_correlation_matrix)\n    \ndef xp_mahalanobis_distance(coeff_vector_1 : np.ndarray, covariance_1 : np.ndarray,\n        coeff_vector_2 : np.ndarray, error_vector_2 : np.ndarray, correlation_vector_2 : np.ndarray) -\u003e float:\n    \u0027\u0027\u0027\n    Computes the Mahalanobis distance between two XP spectra given template coefficients and fully populated\n    covariance for the first, and the data record of the second candidate spectrum, i.e. coefficients, errors and \n    upper-triangular part of the correlation matrix in the continuous representation. The second set of\n    coefficients and errors should be scaled to the same flux level as the template spectrum. This means that\n    the distance returned quantifies how close the candidate SED shape is to that of the template regardless any\n    difference in intrinsic luminosity.\n    \n    This function uses plain matrix inversion of the combined covariance matrix. This can be numerically unstable\n    and result in a negative squared distance resulting in turn in a return value of not-a-number. It is up to \n    the calling application to handle this condition.\n    \u0027\u0027\u0027\n    # second covariance matrix\n    corr2 \u003d make_correlation_matrix(correlation_vector_2)\n    covariance_2 \u003d make_covariance_matrix(corr2, error_vector_2)\n    \n    # form covariance of the coefficient difference vector as sum of individual covariance \n    cocovar \u003d covariance_1 + covariance_2\n    \n    # inverse of combined, scaled covariance\n    cocovar_inv \u003d np.linalg.inv(cocovar)\n\n    # use these in the computation of the square of the Mahalanobis distance, e.g. see source linked from\n    # https://docs.scipy.org/doc/scipy/reference/generated/scipy.spatial.distance.mahalanobis.html\n    delta \u003d coeff_vector_1 - coeff_vector_2\n    d \u003d np.sqrt(np.dot(np.dot(delta, cocovar_inv), delta))\n    \n    # resulting Mahalanobs distance follows chi distribution with NUM_XP_COEFFS degrees of freedom (M. Weiler, personal communication)\n    # for identical spectra\n    return d\n    \ndef find_similar_continuous_spectra(data_frame : DataFrame, template_df : DataFrame) -\u003e DataFrame:\n    \u0027\u0027\u0027\n    Given data frames defining a large set of XP spectra in continuous representation, \n    and a single template example also in continuous representation, search the former for cases\n    similar to the latter. The data frame of the set of spectra being\n    searched is annotated with a dissimilarity statistic: the greater the value the more\n    dissimilar is the candidate spectrum to the template given. By definition this statistic\n    will be zero for the template spectrum if it is present in the set of candidates.\n    \n    Parameters:\n    -----------\n    data_frame : DataFrame()\n        the data frame encapsulating the set of XP continuous representation spectra to be searched\n    template_df : DataFrame()\n        the template, also in XP continuous representation encapsulated in a data frame.\n        \n    return : DataFrame()\n        a new data frame annotated with a dissimilarity (increasingly positive) statistic where \n        zero indicates a perfect match.\n    \u0027\u0027\u0027\n    \n    # convenience reference to template as a Row object:\n    template_row \u003d template_df.collect()[0]\n    \n    # extract the template arrays \n    template_bp_coefficients \u003d np.array(template_row[\u0027bp_coefficients\u0027]).reshape(-1)\n    template_bp_coefficient_errors \u003d np.array(template_row[\u0027bp_coefficient_errors\u0027]).reshape(-1)\n    template_bp_correlations \u003d np.array(template_row[\u0027bp_coefficient_correlations\u0027]).reshape(-1)\n    template_rp_coefficients \u003d np.array(template_row[\u0027rp_coefficients\u0027]).reshape(-1)\n    template_rp_coefficient_errors \u003d np.array(template_row[\u0027rp_coefficient_errors\u0027]).reshape(-1)\n    template_rp_correlations \u003d np.array(template_row[\u0027rp_coefficient_correlations\u0027]).reshape(-1)\n    template_gmag \u003d template_row[\u0027phot_g_mean_mag\u0027]\n\n    # precompute the required vectors and matrices for the template\n    bp_correl_mat \u003d make_correlation_matrix(template_bp_correlations)\n    template_bp_covariance \u003d make_covariance_matrix(bp_correl_mat, template_bp_coefficient_errors)\n    rp_correl_mat \u003d make_correlation_matrix(template_rp_correlations)\n    template_rp_covariance \u003d make_covariance_matrix(rp_correl_mat, template_rp_coefficient_errors)\n    \n    # define a vectorised Pandas UDF against the template for comparison of other spectra against it\n    @pandas_udf(\u0027float\u0027)\n    def xp_is_similar(bp_coeffs:pd.Series, bp_coeff_errors:pd.Series, bp_correlations:pd.Series, \n                      rp_coeffs:pd.Series, rp_coeff_errors:pd.Series, rp_correlations:pd.Series,\n                      gmags:pd.Series) -\u003e pd.Series:\n        \u0027\u0027\u0027\n        Create a similarity metric for the XP continuous representation coefficients with respect \n        to those of a predefined template. Similarity is based on a combined BP and RP Mahalanobis\n        distance between the coefficient sets with full accounting for covariance. Input arguments\n        are series of the BP and RP coefficients, errors and correlation vectors as stored in table\n        xp_continuous_mean_spectrum. The returned object is a corresponding series of floats of the\n        quadrature sum of the BP and RP Mahalanobis distances between each candidate spectrum and\n        the static template defined above.\n        \u0027\u0027\u0027\n        \n        # initialise the results series\n        results \u003d pd.Series(np.full(bp_coeffs.size, 0.0))\n\n        # iterate over the data series\n        for i in range(bp_coeffs.size):\n            \n            # normalise the candidate flux coefficients and uncertainties to that of the template\n            norm \u003d 10.0**(0.4 * (template_gmag - gmags.iloc[i]))\n            bp_coeffs_norm \u003d bp_coeffs.iloc[i] / norm\n            bp_coeff_errors_norm \u003d bp_coeff_errors.iloc[i] / norm\n            rp_coeffs_norm \u003d rp_coeffs.iloc[i] / norm\n            rp_coeff_errors_norm \u003d rp_coeff_errors.iloc[i] / norm\n            \n            # Mahalanobis distances for the individual BP and RP coefficient sets normalised to the flux level of the template\n            bp_mdist \u003d xp_mahalanobis_distance(template_bp_coefficients, template_bp_covariance, bp_coeffs_norm, bp_coeff_errors_norm, bp_correlations.iloc[i])\n            rp_mdist \u003d xp_mahalanobis_distance(template_rp_coefficients, template_rp_covariance, rp_coeffs_norm, rp_coeff_errors_norm, rp_correlations.iloc[i])\n            \n            # combined Mahalanobis distance\n            results.iloc[i] \u003d np.sqrt(bp_mdist * bp_mdist + rp_mdist * rp_mdist)\n            \n        return results\n\n    # add in the similarity statistic\n    data_frame \u003d data_frame.withColumn(\u0027xp_similar\u0027, xp_is_similar(\n        data_frame.bp_coefficients, data_frame.bp_coefficient_errors, data_frame.bp_coefficient_correlations, \n        data_frame.rp_coefficients, data_frame.rp_coefficient_errors, data_frame.rp_coefficient_correlations, data_frame.phot_g_mean_mag))\n        \n    # give back the full set filtering out any nulls (which may result from NaN individual Mahalanobis distances)\n    return data_frame.filter(data_frame.xp_similar.isNotNull())\n\n"
    },
    {
      "cell_type": "code",
      "execution_count": 5,
      "metadata": {
        "autoscroll": "auto"
      },
      "outputs": [],
      "source": "%pyspark\n\n# select a high s/n template for the search, e.g. Proxima Cen\nsid \u003d 5853498713190525696\n\n# defined the template data frame\ntemplate_df \u003d spark.sql(\u0027SELECT xp.*, g.phot_g_mean_mag FROM xp_continuous_mean_spectrum AS xp INNER JOIN gaia_source AS g ON g.source_id \u003d xp.source_id WHERE g.source_id \u003d %d\u0027%(sid))\n\n# define a query over the entire dataset, restricting to low reddening for simplicity\nquery \u003d \u0027SELECT xp.*, g.phot_g_mean_mag  \u0027 + \\\n        \u0027FROM xp_continuous_mean_spectrum AS xp INNER JOIN gaia_source AS g ON g.source_id \u003d xp.source_id \u0027 + \\\n        \u0027WHERE g.ag_gspphot \u003c 0.1 AND MOD(g.random_index, 20) \u003d 0\u0027\n# TEST: give the template only in the df\n#query \u003d \u0027SELECT * FROM xp_continuous_mean_spectrum WHERE source_id \u003d %d\u0027%(sid)\n\n# sanity check the formatted query\n#print(query)\n\n# define a data frame via the query\ndf \u003d spark.sql(query)\n\n# get any that are similar and show them\nsimilar_df \u003d find_similar_continuous_spectra(df, template_df)\n\n# results quick-look\n#similar_df.show()\n"
    },
    {
      "cell_type": "code",
      "execution_count": 6,
      "metadata": {
        "autoscroll": "auto"
      },
      "outputs": [],
      "source": "%pyspark\n\n# collecting the results to a Pandas data frame collects the results to the driver interpreter process\n# so this cell will actually action the trawl on the Spark worker cluster. Be prepared to sit back and wait...\ntop3_pdf \u003d similar_df.sort(similar_df.xp_similar.asc()).limit(3).toPandas()\n\n# sanity check as required\n# z.show(top3_pdf)"
    },
    {
      "cell_type": "code",
      "execution_count": 7,
      "metadata": {
        "autoscroll": "auto"
      },
      "outputs": [],
      "source": "%pyspark\n\n# convert to sampled form:\nsampled_spectra, sampling \u003d convert(top3_pdf, save_file \u003d False)\n    \n# plot to sanity check:\nplot_spectra(sampled_spectra, sampling \u003d sampling, multi\u003dTrue, show_plot\u003dTrue, output_path\u003dNone, legend\u003dTrue)\n\n"
    },
    {
      "cell_type": "code",
      "execution_count": 8,
      "metadata": {
        "autoscroll": "auto"
      },
      "outputs": [],
      "source": "%pyspark\n\n# externally calibrate the spectra\ncalibrated_spectra, sampling \u003d calibrate(top3_pdf, save_file \u003d False)\n\n# plot the spectra\nplot_spectra(calibrated_spectra, sampling \u003d sampling, legend \u003d True)\n\n"
    },
    {
      "cell_type": "markdown",
      "metadata": {},
      "source": "* [Gaia DR3 XP spectra online documentation](https://gea.esac.esa.int/archive/documentation/GDR3/Data_processing/chap_cu5pho/cu5pho_sec_specProcessing/cu5pho_ssec_specInternCal.html#SSS3)\n* [Gaia DR3 spectroscopic data model](https://gea.esac.esa.int/archive/documentation/GDR3/Gaia_archive/chap_datamodel/sec_dm_spectroscopic_tables/)\n* [GaiaXPy website](https://gaia-dpci.github.io/GaiaXPy-website/)\n* [GaiaXPy API documentation](https://gaiaxpy.readthedocs.io/en/latest/gaiaxpy.html)\n* [Vectorised User Defined Functions for PySpark](https://databricks.com/blog/2020/05/20/new-pandas-udfs-and-python-type-hints-in-the-upcoming-release-of-apache-spark-3-0.html)\n"
    }
  ]
}