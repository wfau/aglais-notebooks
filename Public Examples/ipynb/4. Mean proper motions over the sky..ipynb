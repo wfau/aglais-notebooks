﻿{
  "metadata": {
    "name": "4. Mean proper motions over the sky",
    "kernelspec": {
      "language": "scala",
      "name": "spark2-scala"
    },
    "language_info": {
      "codemirror_mode": "text/x-scala",
      "file_extension": ".scala",
      "mimetype": "text/x-scala",
      "name": "scala",
      "pygments_lexer": "scala"
    }
  },
  "nbformat": 4,
  "nbformat_minor": 2,
  "cells": [
    {
      "cell_type": "markdown",
      "metadata": {},
      "source": "\u003c!--\n\n    Gaia Data Processing and Analysis Consortium (DPAC) \n    Co-ordination Unit 9 Work Package 930\n    \n    (c) 2005-2025 Gaia DPAC\n    \n    This program is free software: you can redistribute it and/or modify\n    it under the terms of the GNU General Public License as published by\n    the Free Software Foundation, either version 3 of the License, or\n    (at your option) any later version.\n\n    This program is distributed in the hope that it will be useful,\n    but WITHOUT ANY WARRANTY; without even the implied warranty of\n    MERCHANTABILITY or FITNESS FOR A PARTICULAR PURPOSE.  See the\n    GNU General Public License for more details.\n\n    You should have received a copy of the GNU General Public License\n    along with this program.  If not, see \u003chttps://www.gnu.org/licenses/\u003e.\n    --\u003e\n\nThis note book shows a simple example of statistical aggregations over the entire sky catalogue. Visualisation employs the HEALPixel pixelisation encoded in the Gaia source identifier."
    },
    {
      "cell_type": "code",
      "execution_count": 1,
      "metadata": {
        "autoscroll": "auto"
      },
      "outputs": [],
      "source": "%pyspark\nimport gaiadmpsetup\n\n# set the required HEALPixelisation level here:\nhealpix_level \u003d 6\n# HEALPix level : no. of pixels\n# 4 : 3072\n# 5 : 12288\n# 6 : 49152 ~ 1 square degree pixels\n# 7 : 196608\n"
    },
    {
      "cell_type": "code",
      "execution_count": 2,
      "metadata": {
        "autoscroll": "auto"
      },
      "outputs": [],
      "source": "%pyspark\nimport math\n\n# compute relevant pixelisation quantities\nnside \u003d int(math.pow(2, healpix_level))\npowers_of_2 \u003d 35 + (12 - healpix_level)*2\ndivisor \u003d int(math.pow(2, powers_of_2))\n\n# formulate SQL query\nquery \u003d \"SELECT floor(source_id /  %d\"%(divisor) + \") AS hpx_id, COUNT(*) AS n, AVG(pmra) AS avg_pmra, AVG(pmdec) AS avg_pmdec FROM gaiadr3.gaia_source GROUP BY hpx_id\"\n\n# define a data frame aggregation of the relevant quantities (note this is cached for use in two subsequent cells)\ndf \u003d spark.sql(query).cache()\n"
    },
    {
      "cell_type": "code",
      "execution_count": 3,
      "metadata": {
        "autoscroll": "auto"
      },
      "outputs": [],
      "source": "%pyspark\n\n# plot up the sky counts\nimport matplotlib.pyplot as plot\nimport numpy as np\nimport healpy as hp\n\n# set a figure to use along with a plot size (landscape, golden ratio)\nplot.figure(1, figsize \u003d (16.18, 10.0))\n\n# healpy constants appropriate to the HEALPix indexing encoded in Gaia source IDs\nnpix \u003d hp.nside2npix(nside)\n\n# do the visualisation\narray_data \u003d np.empty(npix)\nfor item in df.rdd.collect():  array_data[item[0]] \u003d item[2]\nhp.mollview(array_data, fig \u003d 1, coord\u003d\u0027C\u0027, unit\u003d\u0027mas/yr\u0027, nest\u003dTrue, title\u003d\u0027Mean RA proper motion at HEALPix level %d\u0027%(healpix_level), cmap\u003d\u0027coolwarm\u0027)\nhp.graticule(coord\u003d\u0027C\u0027, color\u003d\u0027white\u0027)"
    },
    {
      "cell_type": "code",
      "execution_count": 4,
      "metadata": {
        "autoscroll": "auto"
      },
      "outputs": [],
      "source": "%pyspark\n\nplot.figure(2, figsize \u003d (16.18, 10.0))\n\narray_data \u003d np.empty(npix)\nfor item in df.rdd.collect():  array_data[item[0]] \u003d item[3]\nhp.mollview(array_data, fig\u003d2, coord\u003d\u0027C\u0027, unit\u003d\u0027mas/yr\u0027, nest\u003dTrue, title\u003d\u0027Mean Dec proper motion at HEALPix level %d\u0027%(healpix_level), cmap\u003d\u0027rainbow\u0027)\nhp.graticule(coord\u003d\u0027C\u0027, color\u003d\u0027white\u0027)\n"
    },
    {
      "cell_type": "markdown",
      "metadata": {},
      "source": "* [Gaia source ID definition (for HEALPix indexing)](https://dms.cosmos.esa.int/COSMOS/doc_fetch.php?id\u003d2779219)\n* [Python package healpy](https://healpy.readthedocs.io/en/latest/index.html)\n* [Python matplotlib plotting library](https://matplotlib.org)\n* [Handy HEALPixel characteristics for various levels](https://lambda.gsfc.nasa.gov/toolbox/tb_pixelcoords.cfm)\n\n"
    },
    {
      "cell_type": "code",
      "execution_count": 6,
      "metadata": {
        "autoscroll": "auto"
      },
      "outputs": [],
      "source": "%pyspark\n\nsqlContext.clearCache()\n\n\n"
    }
  ]
}